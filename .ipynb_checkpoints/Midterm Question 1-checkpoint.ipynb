{
 "cells": [
  {
   "cell_type": "code",
   "execution_count": 62,
   "metadata": {
    "collapsed": false
   },
   "outputs": [],
   "source": [
    "from email.parser import Parser\n",
    "from glob import glob\n",
    "import os\n",
    "import ast\n",
    "import json\n",
    "from shutil import copy\n",
    "from operator import itemgetter\n",
    "import numpy\n",
    "import matplotlib.pyplot as plt\n",
    "import json"
   ]
  },
  {
   "cell_type": "code",
   "execution_count": 8,
   "metadata": {
    "collapsed": true
   },
   "outputs": [],
   "source": [
    "#create a list of all json files in the Data folder\n",
    "folders = glob('./Data/enron/maildir/*')"
   ]
  },
  {
   "cell_type": "code",
   "execution_count": 44,
   "metadata": {
    "collapsed": false
   },
   "outputs": [],
   "source": [
    "people = []\n",
    "for f in range(len(folders)):\n",
    "    people.append(folders[f][21:len(folders[f])])"
   ]
  },
  {
   "cell_type": "code",
   "execution_count": 45,
   "metadata": {
    "collapsed": false
   },
   "outputs": [],
   "source": [
    "for p in range(len(people)):\n",
    "    temp = [0]*3\n",
    "    temp[0] = glob('./Data/enron/maildir/' + people[p] + '/sent_items/*')\n",
    "    temp[1] = glob('./Data/enron/maildir/' + people[p] + '/inbox/*')\n",
    "    temp[2] = glob('./Data/enron/maildir/' + people[p] + '/deleted_items/*')\n",
    "    people[p] = [people[p],len(temp[0]),len(temp[1]),len(temp[2])]"
   ]
  },
  {
   "cell_type": "code",
   "execution_count": 46,
   "metadata": {
    "collapsed": true
   },
   "outputs": [],
   "source": [
    "for i in range(len(people)):\n",
    "    people[i].extend([people[i][1]+people[i][2]+people[i][3]])"
   ]
  },
  {
   "cell_type": "code",
   "execution_count": 47,
   "metadata": {
    "collapsed": false
   },
   "outputs": [],
   "source": [
    "people = sorted(people,key=itemgetter(4), reverse = True)"
   ]
  },
  {
   "cell_type": "code",
   "execution_count": 48,
   "metadata": {
    "collapsed": false
   },
   "outputs": [
    {
     "data": {
      "text/plain": [
       "[['dasovich-j', 1436, 1388, 1564, 4388],\n",
       " ['kaminski-v', 1696, 560, 1792, 4048],\n",
       " ['steffes-j', 1379, 482, 655, 2516],\n",
       " ['lay-k', 13, 1373, 1126, 2512],\n",
       " ['shackleton-s', 633, 1058, 655, 2346],\n",
       " ['parks-j', 559, 644, 1078, 2281],\n",
       " ['nemec-g', 595, 1466, 113, 2174],\n",
       " ['presto-k', 956, 45, 1040, 2041],\n",
       " ['germany-c', 1353, 326, 345, 2024],\n",
       " ['watson-k', 971, 500, 422, 1893],\n",
       " ['blair-l', 929, 291, 663, 1883],\n",
       " ['maggi-m', 116, 91, 1649, 1856],\n",
       " ['white-s', 445, 387, 989, 1821],\n",
       " ['skilling-j', 54, 1253, 483, 1790],\n",
       " ['lavorato-j', 674, 277, 715, 1666],\n",
       " ['buy-r', 390, 1143, 110, 1643],\n",
       " ['arnold-j', 723, 142, 723, 1588],\n",
       " ['taylor-m', 547, 406, 632, 1585],\n",
       " ['scott-s', 674, 443, 457, 1574],\n",
       " ['lewis-a', 26, 182, 1359, 1567],\n",
       " ['beck-s', 482, 752, 309, 1543],\n",
       " ['shapiro-r', 1, 27, 1471, 1499],\n",
       " ['kitchen-l', 1132, 141, 202, 1475],\n",
       " ['campbell-l', 117, 1316, 1, 1434],\n",
       " ['cash-m', 545, 343, 466, 1354],\n",
       " ['dean-c', 33, 971, 343, 1347],\n",
       " ['jones-t', 313, 957, 66, 1336],\n",
       " ['heard-m', 784, 318, 232, 1334],\n",
       " ['geaccone-t', 365, 572, 373, 1310],\n",
       " ['salisbury-h', 139, 1152, 14, 1305],\n",
       " ['lenhart-m', 767, 44, 483, 1294],\n",
       " ['mims-thurston-p', 229, 348, 715, 1292],\n",
       " ['sager-e', 415, 736, 133, 1284],\n",
       " ['ward-k', 677, 278, 311, 1266],\n",
       " ['thomas-p', 163, 415, 687, 1265],\n",
       " ['love-p', 599, 151, 488, 1238],\n",
       " ['hodge-j', 96, 639, 487, 1222],\n",
       " ['schoolcraft-d', 481, 97, 608, 1186],\n",
       " ['corman-s', 630, 83, 460, 1173],\n",
       " ['derrick-j', 583, 237, 341, 1161],\n",
       " ['may-l', 42, 1087, 11, 1140],\n",
       " ['neal-s', 226, 257, 657, 1140],\n",
       " ['zipper-a', 348, 223, 542, 1113],\n",
       " ['meyers-a', 11, 22, 1066, 1099],\n",
       " ['giron-d', 304, 377, 415, 1096],\n",
       " ['solberg-g', 60, 167, 851, 1078],\n",
       " ['lokey-t', 119, 742, 205, 1066],\n",
       " ['saibi-e', 39, 1008, 16, 1063],\n",
       " ['kean-s', 458, 86, 516, 1060],\n",
       " ['hayslett-r', 533, 254, 258, 1045],\n",
       " ['keiser-k', 365, 393, 284, 1042],\n",
       " ['perlingiere-d', 582, 90, 369, 1041],\n",
       " ['tycholiz-b', 354, 529, 158, 1041],\n",
       " ['shankman-j', 59, 130, 841, 1030],\n",
       " ['hyatt-k', 321, 55, 649, 1025],\n",
       " ['sanders-r', 403, 81, 530, 1014],\n",
       " ['griffith-j', 40, 45, 925, 1010],\n",
       " ['quigley-d', 506, 102, 390, 998],\n",
       " ['bass-e', 258, 311, 415, 984],\n",
       " ['haedicke-m', 116, 605, 262, 983],\n",
       " ['lucci-p', 234, 135, 569, 938],\n",
       " ['causholli-m', 224, 194, 515, 933],\n",
       " ['baughman-d', 96, 384, 431, 911],\n",
       " ['martin-t', 229, 465, 205, 899],\n",
       " ['shively-h', 128, 143, 596, 867],\n",
       " ['keavey-p', 32, 518, 316, 866],\n",
       " ['dorland-c', 587, 73, 199, 859],\n",
       " ['ybarbo-p', 117, 612, 114, 843],\n",
       " ['mclaughlin-e', 107, 303, 428, 838],\n",
       " ['williams-j', 129, 246, 433, 808],\n",
       " ['whitt-m', 303, 467, 37, 807],\n",
       " ['rogers-b', 90, 338, 374, 802],\n",
       " ['mann-k', 266, 345, 180, 791],\n",
       " ['allen-p', 345, 66, 361, 772],\n",
       " ['smith-m', 234, 452, 85, 771],\n",
       " ['forney-j', 432, 178, 117, 727],\n",
       " ['farmer-d', 258, 85, 380, 723],\n",
       " ['grigsby-m', 292, 77, 352, 721],\n",
       " ['williams-w3', 519, 137, 0, 656],\n",
       " ['semperger-c', 265, 16, 362, 643],\n",
       " ['carson-m', 118, 141, 373, 632],\n",
       " ['cuilla-m', 140, 71, 421, 632],\n",
       " ['pimenov-v', 73, 200, 359, 632],\n",
       " ['horton-s', 152, 73, 392, 617],\n",
       " ['storey-g', 138, 133, 327, 598],\n",
       " ['whalley-g', 68, 462, 66, 596],\n",
       " ['stepenovitch-j', 76, 198, 319, 593],\n",
       " ['gang-l', 90, 48, 451, 589],\n",
       " ['tholt-j', 248, 85, 244, 577],\n",
       " ['lokay-m', 161, 56, 352, 569],\n",
       " ['mckay-j', 296, 26, 241, 563],\n",
       " ['platter-p', 107, 393, 56, 556],\n",
       " ['rapp-b', 104, 332, 118, 554],\n",
       " ['wolfe-j', 93, 348, 108, 549],\n",
       " ['harris-s', 0, 56, 492, 548],\n",
       " ['sturm-f', 163, 166, 211, 540],\n",
       " ['donoho-l', 217, 201, 114, 532],\n",
       " ['mccarty-d', 172, 91, 254, 517],\n",
       " ['zufferli-j', 338, 49, 118, 505],\n",
       " ['weldon-c', 190, 43, 271, 504],\n",
       " ['davis-d', 53, 110, 334, 497],\n",
       " ['reitmeyer-j', 57, 352, 88, 497],\n",
       " ['benson-r', 16, 275, 203, 494],\n",
       " ['donohoe-t', 32, 430, 31, 493],\n",
       " ['ruscitti-k', 73, 277, 143, 493],\n",
       " ['crandell-s', 149, 252, 89, 490],\n",
       " ['staab-t', 96, 90, 284, 470],\n",
       " ['holst-k', 36, 192, 235, 463],\n",
       " ['hernandez-j', 63, 352, 40, 455],\n",
       " ['bailey-s', 14, 4, 434, 452],\n",
       " ['mckay-b', 44, 86, 308, 438],\n",
       " ['panus-s', 26, 30, 377, 433],\n",
       " ['ring-r', 51, 86, 286, 423],\n",
       " ['brawner-s', 73, 100, 240, 413],\n",
       " ['ermis-f', 16, 379, 6, 401],\n",
       " ['king-j', 13, 37, 346, 396],\n",
       " ['schwieger-j', 151, 42, 200, 393],\n",
       " ['townsend-j', 16, 243, 132, 391],\n",
       " ['swerzbin-m', 73, 265, 14, 352],\n",
       " ['kuykendall-t', 129, 51, 169, 349],\n",
       " ['gilbertsmith-d', 15, 142, 191, 348],\n",
       " ['arora-h', 68, 82, 197, 347],\n",
       " ['richey-c', 249, 68, 28, 345],\n",
       " ['hendrickson-s', 65, 84, 179, 328],\n",
       " ['mcconnell-m', 110, 100, 102, 312],\n",
       " ['pereira-s', 75, 42, 164, 281],\n",
       " ['ring-a', 28, 81, 137, 246],\n",
       " ['sanchez-m', 102, 67, 61, 230],\n",
       " ['fischer-m', 62, 53, 112, 227],\n",
       " ['motley-m', 13, 78, 125, 216],\n",
       " ['gay-r', 9, 60, 89, 158],\n",
       " ['quenet-j', 6, 13, 136, 155],\n",
       " ['scholtes-d', 125, 13, 0, 138],\n",
       " ['slinger-r', 48, 49, 35, 132],\n",
       " ['delainey-d', 59, 22, 9, 90],\n",
       " ['phanis-s', 4, 12, 17, 33],\n",
       " ['badeer-r', 7, 3, 13, 23],\n",
       " ['dickson-s', 0, 0, 0, 0],\n",
       " ['fossum-d', 0, 0, 0, 0],\n",
       " ['guzman-m', 0, 0, 0, 0],\n",
       " ['hain-m', 0, 0, 0, 0],\n",
       " ['hyvl-d', 0, 0, 0, 0],\n",
       " ['linder-e', 0, 0, 0, 0],\n",
       " ['merriss-s', 0, 0, 0, 0],\n",
       " ['rodrique-r', 0, 0, 0, 0],\n",
       " ['south-s', 0, 0, 0, 0],\n",
       " ['stclair-c', 0, 0, 0, 0],\n",
       " ['stokley-c', 0, 0, 0, 0],\n",
       " ['symes-k', 0, 0, 0, 0],\n",
       " ['whalley-l', 0, 0, 0, 0]]"
      ]
     },
     "execution_count": 48,
     "metadata": {},
     "output_type": "execute_result"
    }
   ],
   "source": [
    "people"
   ]
  },
  {
   "cell_type": "code",
   "execution_count": 49,
   "metadata": {
    "collapsed": true
   },
   "outputs": [],
   "source": [
    "x = [people[i][4] for i in range(len(people))]"
   ]
  },
  {
   "cell_type": "code",
   "execution_count": 58,
   "metadata": {
    "collapsed": false
   },
   "outputs": [
    {
     "data": {
      "image/png": "[encoded data removed]",
      "text/plain": [
       "<matplotlib.figure.Figure at 0x1d951b359e8>"
      ]
     },
     "metadata": {},
     "output_type": "display_data"
    }
   ],
   "source": [
    "n, bins, patches = plt.hist(x, 20, facecolor='blue')\n",
    "plt.xlabel('Number of Emails')\n",
    "plt.ylabel('Number of Employees')\n",
    "plt.title('Histogram of Number of Emails (inbox + sent + deleted)')\n",
    "plt.axis([0, 4400, 0, 40])\n",
    "plt.grid(True)\n",
    "\n",
    "plt.show()"
   ]
  },
  {
   "cell_type": "code",
   "execution_count": 61,
   "metadata": {
    "collapsed": false
   },
   "outputs": [
    {
     "name": "stdout",
     "output_type": "stream",
     "text": [
      "People who had over 2000 emails:\n",
      "\n",
      "dasovich-j\n",
      "kaminski-v\n",
      "steffes-j\n",
      "lay-k\n",
      "shackleton-s\n",
      "parks-j\n",
      "nemec-g\n",
      "presto-k\n",
      "germany-c\n"
     ]
    }
   ],
   "source": [
    "print('People who had over 2000 emails:\\n')\n",
    "for f in people:\n",
    "    if f[4] > 2000:\n",
    "        print(f[0])"
   ]
  },
  {
   "cell_type": "code",
   "execution_count": 77,
   "metadata": {
    "collapsed": false
   },
   "outputs": [
    {
     "ename": "JSONDecodeError",
     "evalue": "Expecting value: line 1 column 1 (char 0)",
     "output_type": "error",
     "traceback": [
      "\u001b[0;31m---------------------------------------------------------------------------\u001b[0m",
      "\u001b[0;31mJSONDecodeError\u001b[0m                           Traceback (most recent call last)",
      "\u001b[0;32m<ipython-input-77-0cb72ceb714f>\u001b[0m in \u001b[0;36m<module>\u001b[0;34m()\u001b[0m\n\u001b[1;32m      1\u001b[0m \u001b[0mfiles\u001b[0m \u001b[1;33m=\u001b[0m \u001b[0mglob\u001b[0m\u001b[1;33m(\u001b[0m\u001b[1;34m'./Data/enron/maildir/'\u001b[0m \u001b[1;33m+\u001b[0m \u001b[0mpeople\u001b[0m\u001b[1;33m[\u001b[0m\u001b[1;36m0\u001b[0m\u001b[1;33m]\u001b[0m\u001b[1;33m[\u001b[0m\u001b[1;36m0\u001b[0m\u001b[1;33m]\u001b[0m \u001b[1;33m+\u001b[0m \u001b[1;34m'/inbox/*'\u001b[0m\u001b[1;33m)\u001b[0m\u001b[1;33m\u001b[0m\u001b[0m\n\u001b[1;32m      2\u001b[0m \u001b[0mf\u001b[0m \u001b[1;33m=\u001b[0m \u001b[0mopen\u001b[0m\u001b[1;33m(\u001b[0m\u001b[0mfiles\u001b[0m\u001b[1;33m[\u001b[0m\u001b[1;36m1\u001b[0m\u001b[1;33m]\u001b[0m\u001b[1;33m,\u001b[0m\u001b[1;34m'r'\u001b[0m\u001b[1;33m)\u001b[0m\u001b[1;33m\u001b[0m\u001b[0m\n\u001b[0;32m----> 3\u001b[0;31m \u001b[0mtest\u001b[0m \u001b[1;33m=\u001b[0m \u001b[1;33m[\u001b[0m\u001b[0mjson\u001b[0m\u001b[1;33m.\u001b[0m\u001b[0mload\u001b[0m\u001b[1;33m(\u001b[0m\u001b[0mf\u001b[0m\u001b[1;33m)\u001b[0m\u001b[1;33m]\u001b[0m\u001b[1;33m\u001b[0m\u001b[0m\n\u001b[0m\u001b[1;32m      4\u001b[0m \u001b[0mf\u001b[0m\u001b[1;33m.\u001b[0m\u001b[0mclose\u001b[0m\u001b[1;33m(\u001b[0m\u001b[1;33m)\u001b[0m\u001b[1;33m\u001b[0m\u001b[0m\n",
      "\u001b[0;32mC:\\Users\\Samy Hay\\Anaconda3\\lib\\json\\__init__.py\u001b[0m in \u001b[0;36mload\u001b[0;34m(fp, cls, object_hook, parse_float, parse_int, parse_constant, object_pairs_hook, **kw)\u001b[0m\n\u001b[1;32m    266\u001b[0m         \u001b[0mcls\u001b[0m\u001b[1;33m=\u001b[0m\u001b[0mcls\u001b[0m\u001b[1;33m,\u001b[0m \u001b[0mobject_hook\u001b[0m\u001b[1;33m=\u001b[0m\u001b[0mobject_hook\u001b[0m\u001b[1;33m,\u001b[0m\u001b[1;33m\u001b[0m\u001b[0m\n\u001b[1;32m    267\u001b[0m         \u001b[0mparse_float\u001b[0m\u001b[1;33m=\u001b[0m\u001b[0mparse_float\u001b[0m\u001b[1;33m,\u001b[0m \u001b[0mparse_int\u001b[0m\u001b[1;33m=\u001b[0m\u001b[0mparse_int\u001b[0m\u001b[1;33m,\u001b[0m\u001b[1;33m\u001b[0m\u001b[0m\n\u001b[0;32m--> 268\u001b[0;31m         parse_constant=parse_constant, object_pairs_hook=object_pairs_hook, **kw)\n\u001b[0m\u001b[1;32m    269\u001b[0m \u001b[1;33m\u001b[0m\u001b[0m\n\u001b[1;32m    270\u001b[0m \u001b[1;33m\u001b[0m\u001b[0m\n",
      "\u001b[0;32mC:\\Users\\Samy Hay\\Anaconda3\\lib\\json\\__init__.py\u001b[0m in \u001b[0;36mloads\u001b[0;34m(s, encoding, cls, object_hook, parse_float, parse_int, parse_constant, object_pairs_hook, **kw)\u001b[0m\n\u001b[1;32m    317\u001b[0m             \u001b[0mparse_int\u001b[0m \u001b[1;32mis\u001b[0m \u001b[1;32mNone\u001b[0m \u001b[1;32mand\u001b[0m \u001b[0mparse_float\u001b[0m \u001b[1;32mis\u001b[0m \u001b[1;32mNone\u001b[0m \u001b[1;32mand\u001b[0m\u001b[1;33m\u001b[0m\u001b[0m\n\u001b[1;32m    318\u001b[0m             parse_constant is None and object_pairs_hook is None and not kw):\n\u001b[0;32m--> 319\u001b[0;31m         \u001b[1;32mreturn\u001b[0m \u001b[0m_default_decoder\u001b[0m\u001b[1;33m.\u001b[0m\u001b[0mdecode\u001b[0m\u001b[1;33m(\u001b[0m\u001b[0ms\u001b[0m\u001b[1;33m)\u001b[0m\u001b[1;33m\u001b[0m\u001b[0m\n\u001b[0m\u001b[1;32m    320\u001b[0m     \u001b[1;32mif\u001b[0m \u001b[0mcls\u001b[0m \u001b[1;32mis\u001b[0m \u001b[1;32mNone\u001b[0m\u001b[1;33m:\u001b[0m\u001b[1;33m\u001b[0m\u001b[0m\n\u001b[1;32m    321\u001b[0m         \u001b[0mcls\u001b[0m \u001b[1;33m=\u001b[0m \u001b[0mJSONDecoder\u001b[0m\u001b[1;33m\u001b[0m\u001b[0m\n",
      "\u001b[0;32mC:\\Users\\Samy Hay\\Anaconda3\\lib\\json\\decoder.py\u001b[0m in \u001b[0;36mdecode\u001b[0;34m(self, s, _w)\u001b[0m\n\u001b[1;32m    337\u001b[0m \u001b[1;33m\u001b[0m\u001b[0m\n\u001b[1;32m    338\u001b[0m         \"\"\"\n\u001b[0;32m--> 339\u001b[0;31m         \u001b[0mobj\u001b[0m\u001b[1;33m,\u001b[0m \u001b[0mend\u001b[0m \u001b[1;33m=\u001b[0m \u001b[0mself\u001b[0m\u001b[1;33m.\u001b[0m\u001b[0mraw_decode\u001b[0m\u001b[1;33m(\u001b[0m\u001b[0ms\u001b[0m\u001b[1;33m,\u001b[0m \u001b[0midx\u001b[0m\u001b[1;33m=\u001b[0m\u001b[0m_w\u001b[0m\u001b[1;33m(\u001b[0m\u001b[0ms\u001b[0m\u001b[1;33m,\u001b[0m \u001b[1;36m0\u001b[0m\u001b[1;33m)\u001b[0m\u001b[1;33m.\u001b[0m\u001b[0mend\u001b[0m\u001b[1;33m(\u001b[0m\u001b[1;33m)\u001b[0m\u001b[1;33m)\u001b[0m\u001b[1;33m\u001b[0m\u001b[0m\n\u001b[0m\u001b[1;32m    340\u001b[0m         \u001b[0mend\u001b[0m \u001b[1;33m=\u001b[0m \u001b[0m_w\u001b[0m\u001b[1;33m(\u001b[0m\u001b[0ms\u001b[0m\u001b[1;33m,\u001b[0m \u001b[0mend\u001b[0m\u001b[1;33m)\u001b[0m\u001b[1;33m.\u001b[0m\u001b[0mend\u001b[0m\u001b[1;33m(\u001b[0m\u001b[1;33m)\u001b[0m\u001b[1;33m\u001b[0m\u001b[0m\n\u001b[1;32m    341\u001b[0m         \u001b[1;32mif\u001b[0m \u001b[0mend\u001b[0m \u001b[1;33m!=\u001b[0m \u001b[0mlen\u001b[0m\u001b[1;33m(\u001b[0m\u001b[0ms\u001b[0m\u001b[1;33m)\u001b[0m\u001b[1;33m:\u001b[0m\u001b[1;33m\u001b[0m\u001b[0m\n",
      "\u001b[0;32mC:\\Users\\Samy Hay\\Anaconda3\\lib\\json\\decoder.py\u001b[0m in \u001b[0;36mraw_decode\u001b[0;34m(self, s, idx)\u001b[0m\n\u001b[1;32m    355\u001b[0m             \u001b[0mobj\u001b[0m\u001b[1;33m,\u001b[0m \u001b[0mend\u001b[0m \u001b[1;33m=\u001b[0m \u001b[0mself\u001b[0m\u001b[1;33m.\u001b[0m\u001b[0mscan_once\u001b[0m\u001b[1;33m(\u001b[0m\u001b[0ms\u001b[0m\u001b[1;33m,\u001b[0m \u001b[0midx\u001b[0m\u001b[1;33m)\u001b[0m\u001b[1;33m\u001b[0m\u001b[0m\n\u001b[1;32m    356\u001b[0m         \u001b[1;32mexcept\u001b[0m \u001b[0mStopIteration\u001b[0m \u001b[1;32mas\u001b[0m \u001b[0merr\u001b[0m\u001b[1;33m:\u001b[0m\u001b[1;33m\u001b[0m\u001b[0m\n\u001b[0;32m--> 357\u001b[0;31m             \u001b[1;32mraise\u001b[0m \u001b[0mJSONDecodeError\u001b[0m\u001b[1;33m(\u001b[0m\u001b[1;34m\"Expecting value\"\u001b[0m\u001b[1;33m,\u001b[0m \u001b[0ms\u001b[0m\u001b[1;33m,\u001b[0m \u001b[0merr\u001b[0m\u001b[1;33m.\u001b[0m\u001b[0mvalue\u001b[0m\u001b[1;33m)\u001b[0m \u001b[1;32mfrom\u001b[0m \u001b[1;32mNone\u001b[0m\u001b[1;33m\u001b[0m\u001b[0m\n\u001b[0m\u001b[1;32m    358\u001b[0m         \u001b[1;32mreturn\u001b[0m \u001b[0mobj\u001b[0m\u001b[1;33m,\u001b[0m \u001b[0mend\u001b[0m\u001b[1;33m\u001b[0m\u001b[0m\n",
      "\u001b[0;31mJSONDecodeError\u001b[0m: Expecting value: line 1 column 1 (char 0)"
     ]
    }
   ],
   "source": [
    "files = glob('./Data/enron/maildir/' + people[0][0] + '/inbox/*')\n",
    "f = open(files[1],'r')\n",
    "test = [json.load(f)]\n",
    "f.close()"
   ]
  },
  {
   "cell_type": "code",
   "execution_count": 81,
   "metadata": {
    "collapsed": false
   },
   "outputs": [
    {
     "ename": "IndexError",
     "evalue": "list index out of range",
     "output_type": "error",
     "traceback": [
      "\u001b[0;31m---------------------------------------------------------------------------\u001b[0m",
      "\u001b[0;31mIndexError\u001b[0m                                Traceback (most recent call last)",
      "\u001b[0;32m<ipython-input-81-4793225a75f7>\u001b[0m in \u001b[0;36m<module>\u001b[0;34m()\u001b[0m\n\u001b[1;32m      4\u001b[0m        \u001b[1;32mfor\u001b[0m \u001b[0mline\u001b[0m \u001b[1;32min\u001b[0m \u001b[0mf\u001b[0m\u001b[1;33m:\u001b[0m\u001b[1;33m\u001b[0m\u001b[0m\n\u001b[1;32m      5\u001b[0m             \u001b[0msplitLine\u001b[0m \u001b[1;33m=\u001b[0m \u001b[0mline\u001b[0m\u001b[1;33m.\u001b[0m\u001b[0msplit\u001b[0m\u001b[1;33m(\u001b[0m\u001b[1;33m)\u001b[0m\u001b[1;33m\u001b[0m\u001b[0m\n\u001b[0;32m----> 6\u001b[0;31m             \u001b[0mtestdict\u001b[0m\u001b[1;33m[\u001b[0m\u001b[0msplitLine\u001b[0m\u001b[1;33m[\u001b[0m\u001b[1;36m0\u001b[0m\u001b[1;33m]\u001b[0m\u001b[1;33m]\u001b[0m \u001b[1;33m=\u001b[0m \u001b[1;34m\",\"\u001b[0m\u001b[1;33m.\u001b[0m\u001b[0mjoin\u001b[0m\u001b[1;33m(\u001b[0m\u001b[0msplitLine\u001b[0m\u001b[1;33m[\u001b[0m\u001b[1;36m1\u001b[0m\u001b[1;33m:\u001b[0m\u001b[1;33m]\u001b[0m\u001b[1;33m)\u001b[0m\u001b[1;33m\u001b[0m\u001b[0m\n\u001b[0m\u001b[1;32m      7\u001b[0m \u001b[1;31m#test = [json.load(f)]\u001b[0m\u001b[1;33m\u001b[0m\u001b[1;33m\u001b[0m\u001b[0m\n\u001b[1;32m      8\u001b[0m \u001b[1;31m#f.close()\u001b[0m\u001b[1;33m\u001b[0m\u001b[1;33m\u001b[0m\u001b[0m\n",
      "\u001b[0;31mIndexError\u001b[0m: list index out of range"
     ]
    }
   ],
   "source": [
    "testdict = {}\n",
    "files = glob('./Data/enron/maildir/' + people[0][0] + '/inbox/*')\n",
    "with open(files[1],'r') as f:\n",
    "       for line in f:\n",
    "            splitLine = line.split()\n",
    "            testdict[splitLine[0]] = \",\".join(splitLine[1:])\n",
    "#test = [json.load(f)]\n",
    "#f.close()"
   ]
  }
 ],
 "metadata": {
  "anaconda-cloud": {},
  "kernelspec": {
   "display_name": "Python [conda root]",
   "language": "python",
   "name": "conda-root-py"
  },
  "language_info": {
   "codemirror_mode": {
    "name": "ipython",
    "version": 3
   },
   "file_extension": ".py",
   "mimetype": "text/x-python",
   "name": "python",
   "nbconvert_exporter": "python",
   "pygments_lexer": "ipython3",
   "version": "3.5.2"
  }
 },
 "nbformat": 4,
 "nbformat_minor": 1
}
