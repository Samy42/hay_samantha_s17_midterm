{
 "cells": [
  {
   "cell_type": "code",
   "execution_count": 1,
   "metadata": {
    "collapsed": false
   },
   "outputs": [],
   "source": [
    "import requests\n",
    "import json\n",
    "from urllib.request import urlopen\n",
    "from glob import glob\n",
    "from time import sleep\n",
    "from nltk.corpus import stopwords\n",
    "import matplotlib.pyplot as plt\n",
    "from operator import itemgetter"
   ]
  },
  {
   "cell_type": "code",
   "execution_count": null,
   "metadata": {
    "collapsed": true
   },
   "outputs": [],
   "source": [
    "#Api keys\n",
    "Key_ArticleSearch = 'api-key=483c605d84a447b8ba8756c5c804bdb9'\n",
    "Key_MostPopular = 'api-key=483c605d84a447b8ba8756c5c804bdb9'"
   ]
  },
  {
   "cell_type": "markdown",
   "metadata": {},
   "source": [
    "# Analysis \\# 1: Count of articles containing \"alt-right\" over time "
   ]
  },
  {
   "cell_type": "code",
   "execution_count": null,
   "metadata": {
    "collapsed": false
   },
   "outputs": [],
   "source": [
    "#Pull Article Search results for 25 years for query \"alt-right\" and store each result in a json file\n",
    "\n",
    "starturl = \"http://api.nytimes.com/svc/search/v2/articlesearch.json?\"\n",
    "query = \"query=alt-right&\"\n",
    "startdate = \"begin_date=20160101&\"\n",
    "enddate = \"end_date=20170101&\"\n",
    "\n",
    "startyear = 2017\n",
    "years = 25\n",
    "\n",
    "for y in range(years):\n",
    "    \n",
    "    #create file with right name to reflect year of data\n",
    "    with open(\"data/nyt/alt-right/\"+ str(startyear - y - 1) + \".json\",\"w+\") as f:\n",
    "              \n",
    "        #start date = current year, going backwards\n",
    "        startdate = \"begin_date=\" + str(startyear - y - 1) +\"0101&\"\n",
    "            \n",
    "        enddate = \"end_date=\" +  str(startyear - y) + \"0101&\"\n",
    "        \n",
    "        url = starturl + query + startdate + enddate + Key_ArticleSearch\n",
    "        \n",
    "        r = requests.get(url)\n",
    "        \n",
    "        f.write(str(r.json()))\n",
    "        \n",
    "        sleep(10) #this is to prevent the API time limit"
   ]
  },
  {
   "cell_type": "code",
   "execution_count": null,
   "metadata": {
    "collapsed": false
   },
   "outputs": [],
   "source": [
    "#create list of the files that were created\n",
    "files = glob('./data/nyt/alt-right/*')"
   ]
  },
  {
   "cell_type": "code",
   "execution_count": null,
   "metadata": {
    "collapsed": false
   },
   "outputs": [],
   "source": [
    "# extract the number of results from the result string and store it in a list\n",
    "altright = []\n",
    "for file in files:\n",
    "    temp = []\n",
    "    with open(file,\"r\") as f:\n",
    "        temp.append([file , f.readlines()])\n",
    "        \n",
    "        hitslocationstart = temp[0][1][0].find('\\'hits\\':') +  1\n",
    "        numlocationstart = temp[0][1][0].find('\\'',hitslocationstart)\n",
    "        numlocationend = temp[0][1][0].find('\\'',numlocationstart + 1)\n",
    "        \n",
    "        hits = ''.join(c for c in temp[0][1][0][numlocationstart : numlocationend] if c.isdigit())\n",
    "        \n",
    "        altright.append([int(file[21:25]), int(hits)])   "
   ]
  },
  {
   "cell_type": "code",
   "execution_count": null,
   "metadata": {
    "collapsed": false
   },
   "outputs": [],
   "source": [
    "#plot a bar chart of the number of results per year\n",
    "x = [i[0] for i in altright]\n",
    "y = [i[1] for i in altright]\n",
    "\n",
    "width = 1/1.5\n",
    "plt.bar(x, y, width, color=\"blue\")\n",
    "\n",
    "plt.xlabel('Year')\n",
    "plt.ylabel('Number of Articles Mentioning \"alt-right\"')\n",
    "plt.title('Number of Articles Mentioning \"alt-right\" by Year')\n",
    "plt.axis([1992, 2017, 0, 400000])\n",
    "plt.grid(True)\n",
    "\n",
    "plt.show()"
   ]
  },
  {
   "cell_type": "markdown",
   "metadata": {
    "collapsed": false
   },
   "source": [
    "# Analysis \\# 2: Top Words in Recent Article Titles"
   ]
  },
  {
   "cell_type": "code",
   "execution_count": null,
   "metadata": {
    "collapsed": false
   },
   "outputs": [],
   "source": [
    "#pull the most popular articles from the last 30 days\n",
    "starturl = \"https://api.nytimes.com/svc/mostpopular/v2/mostshared/\"\n",
    "section = \"all-sections/\"\n",
    "time_period = \"30\"\n",
    "fileend = \".json\"\n",
    "    \n",
    "#create file with right name to reflect year of data\n",
    "with open(\"data/nyt/titles.json\",\"w+\") as f:      \n",
    "        url = starturl + section + time_period + fileend + '?' + Key_MostPopular\n",
    "        r = requests.get(url)\n",
    "        f.write(str(r.json()))"
   ]
  },
  {
   "cell_type": "code",
   "execution_count": null,
   "metadata": {
    "collapsed": true
   },
   "outputs": [],
   "source": [
    "#read in the titles from the json to a list\n",
    "titlesfile = []\n",
    "with open(\"data/nyt/titles.json\",\"r\") as f:\n",
    "    titlesfile.extend(f.readlines())"
   ]
  },
  {
   "cell_type": "code",
   "execution_count": null,
   "metadata": {
    "collapsed": false
   },
   "outputs": [],
   "source": [
    "#extract the titles from the list containing the file\n",
    "\n",
    "currentI = 0\n",
    "nextI = titlesfile[0].find('\\'title\\':', currentI + 1)\n",
    "titles =[]\n",
    "\n",
    "numtitles = titlesfile[0].count('\\'title\\':')\n",
    "\n",
    "for i in range(numtitles):\n",
    "    currentI = nextI\n",
    "    nextI = titlesfile[0].find('\\'title\\':', currentI + 1)\n",
    "    titles.append(titlesfile[0][currentI + 10 : titlesfile[0].find('\\',', currentI + 1)])"
   ]
  },
  {
   "cell_type": "code",
   "execution_count": null,
   "metadata": {
    "collapsed": false
   },
   "outputs": [],
   "source": [
    "# convert the list of titles to a list of the words from those titles and make those words lowercase\n",
    "for t in range(len(titles)):\n",
    "    titles[t] = titles[t].split()"
   ]
  },
  {
   "cell_type": "code",
   "execution_count": null,
   "metadata": {
    "collapsed": false
   },
   "outputs": [],
   "source": [
    "# convert the list of titles to a list of the words from those titles and make those words lowercase\n",
    "titlewords = [w.lower() for t in titles for w in t]"
   ]
  },
  {
   "cell_type": "code",
   "execution_count": null,
   "metadata": {
    "collapsed": false
   },
   "outputs": [],
   "source": [
    "settitlewords = list(set(titlewords))"
   ]
  },
  {
   "cell_type": "code",
   "execution_count": null,
   "metadata": {
    "collapsed": false
   },
   "outputs": [],
   "source": [
    "for w in settitlewords:\n",
    "    if w in stopwords.words():\n",
    "        settitlewords.remove(w)\n",
    "    if w is \"and\":\n",
    "        settitlewords.remove(w)"
   ]
  },
  {
   "cell_type": "code",
   "execution_count": null,
   "metadata": {
    "collapsed": true
   },
   "outputs": [],
   "source": [
    "titlewordcount = [ [w,titlewords.count(w)] for w in settitlewords]"
   ]
  },
  {
   "cell_type": "code",
   "execution_count": null,
   "metadata": {
    "collapsed": false
   },
   "outputs": [],
   "source": [
    "titlewordcount = sorted(titlewordcount,key=itemgetter(1), reverse = True)"
   ]
  },
  {
   "cell_type": "code",
   "execution_count": null,
   "metadata": {
    "collapsed": false
   },
   "outputs": [],
   "source": [
    "print(\"The most frequent words from the most popular posts in the last 30 days are: \")\n",
    "\n",
    "for w in range(6):\n",
    "    print(titlewordcount[w][0] + \" COUNT = \" + str(titlewordcount[w][1]))"
   ]
  },
  {
   "cell_type": "markdown",
   "metadata": {},
   "source": [
    "\n",
    "# Analysis \\# 3: Trump vs Obama Popularity Contest"
   ]
  },
  {
   "cell_type": "code",
   "execution_count": null,
   "metadata": {
    "collapsed": false
   },
   "outputs": [],
   "source": [
    "#pull in trump articles\n",
    "starturl = \"http://api.nytimes.com/svc/search/v2/articlesearch.json?\"\n",
    "query = \"query=Donald+Trump&\"\n",
    "startdate = \"begin_date=20160101&\"\n",
    "enddate = \"end_date=20170101&\"\n",
    "\n",
    "startyear = 2017\n",
    "years = 20\n",
    "\n",
    "for y in range(years):\n",
    "    \n",
    "    #create file with right name to reflect year of data\n",
    "    with open(\"data/nyt/trump/\"+ str(startyear - y - 1) + \".json\",\"w+\") as f:\n",
    "              \n",
    "        #start date = current year, going backwards\n",
    "        startdate = \"begin_date=\" + str(startyear - y - 1) +\"0101&\"\n",
    "            \n",
    "        enddate = \"end_date=\" +  str(startyear - y) + \"0101&\"\n",
    "        \n",
    "        url = starturl + query + startdate + enddate + Key_ArticleSearch\n",
    "        \n",
    "        r = requests.get(url)\n",
    "        \n",
    "        f.write(str(r.json()))\n",
    "        \n",
    "        sleep(1)"
   ]
  },
  {
   "cell_type": "code",
   "execution_count": null,
   "metadata": {
    "collapsed": false
   },
   "outputs": [],
   "source": [
    "#pull in obama articles\n",
    "starturl = \"http://api.nytimes.com/svc/search/v2/articlesearch.json?\"\n",
    "query = \"query=Obama&\"\n",
    "startdate = \"begin_date=20160101&\"\n",
    "enddate = \"end_date=20170101&\"\n",
    "\n",
    "startyear = 2017\n",
    "years = 20\n",
    "\n",
    "for y in range(years):\n",
    "    \n",
    "    #create file with right name to reflect year of data\n",
    "    with open(\"data/nyt/obama/\"+ str(startyear - y - 1) + \".json\",\"w+\") as f:\n",
    "              \n",
    "        #start date = current year, going backwards\n",
    "        startdate = \"begin_date=\" + str(startyear - y - 1) +\"0101&\"\n",
    "            \n",
    "        enddate = \"end_date=\" +  str(startyear - y) + \"0101&\"\n",
    "        \n",
    "        url = starturl + query + startdate + enddate + Key_ArticleSearch\n",
    "        \n",
    "        r = requests.get(url)\n",
    "        \n",
    "        f.write(str(r.json()))\n",
    "        \n",
    "        sleep(1)"
   ]
  },
  {
   "cell_type": "code",
   "execution_count": null,
   "metadata": {
    "collapsed": false
   },
   "outputs": [],
   "source": [
    "#compile list of Trump results\n",
    "files = glob('./data/nyt/trump/*')\n",
    "trump = []\n",
    "for file in files:\n",
    "    temp = []\n",
    "    with open(file,\"r\") as f:\n",
    "        temp.append([file , f.readlines()])\n",
    "        \n",
    "        hitslocationstart = temp[0][1][0].find('\\'hits\\':') +  1\n",
    "        numlocationstart = temp[0][1][0].find('\\'',hitslocationstart)\n",
    "        numlocationend = temp[0][1][0].find('\\'',numlocationstart + 1)\n",
    "        \n",
    "        hits = ''.join(c for c in temp[0][1][0][numlocationstart : numlocationend] if c.isdigit())\n",
    "        \n",
    "        trump.append([int(file[17:21]), int(hits)])   "
   ]
  },
  {
   "cell_type": "code",
   "execution_count": null,
   "metadata": {
    "collapsed": true
   },
   "outputs": [],
   "source": [
    "#compile list of Obama Results\n",
    "files = glob('./data/nyt/obama/*')\n",
    "obama = []\n",
    "for file in files:\n",
    "    temp = []\n",
    "    with open(file,\"r\") as f:\n",
    "        temp.append([file , f.readlines()])\n",
    "        \n",
    "        hitslocationstart = temp[0][1][0].find('\\'hits\\':') +  1\n",
    "        numlocationstart = temp[0][1][0].find('\\'',hitslocationstart)\n",
    "        numlocationend = temp[0][1][0].find('\\'',numlocationstart + 1)\n",
    "        \n",
    "        hits = ''.join(c for c in temp[0][1][0][numlocationstart : numlocationend] if c.isdigit())\n",
    "        \n",
    "        obama.append([int(file[17:21]), int(hits)])   "
   ]
  },
  {
   "cell_type": "code",
   "execution_count": null,
   "metadata": {
    "collapsed": false
   },
   "outputs": [],
   "source": [
    "obama"
   ]
  },
  {
   "cell_type": "code",
   "execution_count": null,
   "metadata": {
    "collapsed": false
   },
   "outputs": [],
   "source": [
    "#plot a bar chart of the number of results per year\n",
    "x = [i[0] for i in trump]\n",
    "yt = [i[1] for i in trump]\n",
    "yo = [i[1] for i in obama]\n",
    "\n",
    "\n",
    "ax = plt.subplot(111)\n",
    "ax.bar(x, yt,width=0.2,color='red',align='center') #Trump is red because Republicans are red\n",
    "ax.bar(x, yo,width=0.2,color='blue',align='center')\n",
    "\n",
    "\n",
    "plt.xlabel('Year')\n",
    "plt.ylabel('Number of Articles')\n",
    "plt.title('Number of Articles Mentioning \"alt-right\" by Year')\n",
    "plt.axis([1992, 2017, 0, 400000])\n",
    "plt.grid(True)\n",
    "\n",
    "plt.show()"
   ]
  }
 ],
 "metadata": {
  "anaconda-cloud": {},
  "kernelspec": {
   "display_name": "Python [conda root]",
   "language": "python",
   "name": "conda-root-py"
  },
  "language_info": {
   "codemirror_mode": {
    "name": "ipython",
    "version": 3
   },
   "file_extension": ".py",
   "mimetype": "text/x-python",
   "name": "python",
   "nbconvert_exporter": "python",
   "pygments_lexer": "ipython3",
   "version": "3.5.2"
  }
 },
 "nbformat": 4,
 "nbformat_minor": 1
}
